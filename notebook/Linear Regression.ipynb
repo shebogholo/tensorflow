{
 "cells": [
  {
   "cell_type": "code",
   "execution_count": 1,
   "metadata": {},
   "outputs": [],
   "source": [
    "import tensorflow as tf\n",
    "import numpy as np\n",
    "from sklearn.datasets import load_boston"
   ]
  },
  {
   "cell_type": "code",
   "execution_count": 2,
   "metadata": {},
   "outputs": [],
   "source": [
    "# function to load boston dataset\n",
    "def read_file():\n",
    "    data = load_boston()\n",
    "    features = np.array(data.data)\n",
    "    target = np.array(data.target)\n",
    "    return features, target"
   ]
  },
  {
   "cell_type": "code",
   "execution_count": 3,
   "metadata": {},
   "outputs": [],
   "source": [
    "# function to normalize features by z-scaling\n",
    "def normalize_features(data):\n",
    "    mean = np.mean(data, axis=0)\n",
    "    std = np.std(data, axis=0)\n",
    "    return (data - mean)/std"
   ]
  },
  {
   "cell_type": "code",
   "execution_count": 4,
   "metadata": {},
   "outputs": [],
   "source": [
    "# function to add bias to features\n",
    "def append_bias(features, target):\n",
    "    n_samples = features.shape[0]\n",
    "    n_features = features.shape[1]\n",
    "    intercept_features = np.ones((n_samples, 1))\n",
    "    X = np.concatenate((features, intercept_features), axis=1)\n",
    "    X = np.reshape(X, [n_samples, n_features + 1])\n",
    "    Y = np.reshape(target, [n_samples, 1])\n",
    "    return X, Y"
   ]
  },
  {
   "cell_type": "code",
   "execution_count": 5,
   "metadata": {},
   "outputs": [],
   "source": [
    "features, target = read_file()\n",
    "z_features = normalize_features(features)\n",
    "X_input, Y_input = append_bias(z_features, target)\n",
    "num_features = X_input.shape[1]"
   ]
  },
  {
   "cell_type": "code",
   "execution_count": 6,
   "metadata": {},
   "outputs": [],
   "source": [
    "# Tensorflow placeholder, Variable and Weights\n",
    "X = tf.placeholder(tf.float32, [None, num_features])\n",
    "Y = tf.placeholder(tf.float32, [None, 1])\n",
    "w = tf.Variable(tf.random_normal((num_features, 1)), name='weights')\n",
    "init = tf.global_variables_initializer()"
   ]
  },
  {
   "cell_type": "code",
   "execution_count": 7,
   "metadata": {},
   "outputs": [],
   "source": [
    "# Parameters for cost and optimization\n",
    "learning_rate = 0.001\n",
    "num_epochs = 100\n",
    "cost = tf.reduce_mean(tf.square(tf.matmul(X, w) - Y))\n",
    "optimizer = tf.train.GradientDescentOptimizer(learning_rate).minimize(cost)"
   ]
  },
  {
   "cell_type": "markdown",
   "metadata": {},
   "source": [
    "#### Execute Learning"
   ]
  },
  {
   "cell_type": "code",
   "execution_count": 8,
   "metadata": {},
   "outputs": [],
   "source": [
    "with tf.Session() as session:\n",
    "    session.run(init)\n",
    "    for i in range(num_epochs):\n",
    "        session.run(optimizer, feed_dict={X:X_input, Y:Y_input})"
   ]
  },
  {
   "cell_type": "code",
   "execution_count": null,
   "metadata": {},
   "outputs": [],
   "source": []
  }
 ],
 "metadata": {
  "kernelspec": {
   "display_name": "Python 3",
   "language": "python",
   "name": "python3"
  },
  "language_info": {
   "codemirror_mode": {
    "name": "ipython",
    "version": 3
   },
   "file_extension": ".py",
   "mimetype": "text/x-python",
   "name": "python",
   "nbconvert_exporter": "python",
   "pygments_lexer": "ipython3",
   "version": "3.6.6"
  }
 },
 "nbformat": 4,
 "nbformat_minor": 2
}
